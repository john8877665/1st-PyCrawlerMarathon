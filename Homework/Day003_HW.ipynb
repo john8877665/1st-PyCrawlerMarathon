{
 "cells": [
  {
   "cell_type": "markdown",
   "metadata": {},
   "source": [
    "# Python 下載XML檔案與解析\n",
    "\n",
    "\n",
    "* 了解 xml 檔案格式與內容\n",
    "* 能夠利用套件存取 xml 格式的檔案\n"
   ]
  },
  {
   "cell_type": "markdown",
   "metadata": {},
   "source": [
    "## 作業目標\n",
    "\n",
    "* 比較一下範例檔案中的「File I/O」與「xmltodict」讀出來的內容有什麼差異\n",
    "\n",
    "* 根據範例檔案的結果：\n",
    "    1. 請問高雄市有多少地區有溫度資料？\n",
    "    2. 請取出每一個地區所記錄的第一個時間點跟溫度\n",
    "    3. 請取出第一個地區所記錄的每一個時間點跟溫度"
   ]
  },
  {
   "cell_type": "markdown",
   "metadata": {},
   "source": [
    "### 比較一下範例檔案中的「File I/O」與「xmltodict」讀出來的內容有什麼差異\n"
   ]
  },
  {
   "cell_type": "code",
   "execution_count": null,
   "metadata": {},
   "outputs": [],
   "source": [
    "File I/O 讀出來是完整的xml資料，含有所有標籤（開頭與結尾都有）；xmltodict則以dictionary方式儲存，取值更為容易。"
   ]
  },
  {
   "cell_type": "markdown",
   "metadata": {},
   "source": [
    "### 根據範例檔案的結果：\n",
    "\n",
    "1. 請問高雄市有多少地區有溫度資料？\n",
    "2. 請取出每一個地區所記錄的第一個時間點跟溫度\n",
    "3. 請取出第一個地區所記錄的每一個時間點跟溫度"
   ]
  },
  {
   "cell_type": "code",
   "execution_count": 2,
   "metadata": {},
   "outputs": [],
   "source": [
    "# 1. 請問高雄市有多少地區有溫度資料？\n",
    "\n",
    "a = open(\"./Data/64_72hr_CH.xml\", \"r\")\n",
    "xml = a.read()\n",
    "a.close()\n",
    "\n",
    "import xmltodict\n",
    "dic = dict(xmltodict.parse(xml))\n",
    "\n",
    "#print(dic['cwbopendata']['dataset']['locations']['location'][0]['weatherElement'][0]['description'])\n",
    "#若取出溫度兩個字，代表有溫度資料\n",
    "# len(dic['cwbopendata']['dataset']['locations']['location']) 地區數目，從零開始的列表\n",
    "\n",
    "num_of_T = 0\n",
    "for x in range(len(dic['cwbopendata']['dataset']['locations']['location'])):\n",
    "    if dic['cwbopendata']['dataset']['locations']['location'][x]['weatherElement'][0]['description'] == \"溫度\":\n",
    "        num_of_T = num_of_T + 1\n",
    "print(num_of_T)\n",
    "\n",
    "#高雄有38個行政區有溫度資料"
   ]
  },
  {
   "cell_type": "code",
   "execution_count": null,
   "metadata": {},
   "outputs": [],
   "source": [
    "# 2. 請取出每一個地區所記錄的第一個時間點跟溫度\n",
    "\n",
    "# len(dic['cwbopendata']['dataset']['locations']['location']) 地區數目，從零開始的列表\n",
    "for t in range(len(dic['cwbopendata']['dataset']['locations']['location'])):\n",
    "    print(dic['cwbopendata']['dataset']['locations']['location'][t]['weatherElement'][0]['time'][0]['dataTime'], \n",
    "          dic['cwbopendata']['dataset']['locations']['location'][t]['weatherElement'][0]['time'][0]['elementValue']['value'])\n",
    "\n",
    "# 2019-06-28T12:00:00+08:00 33\n",
    "# 2019-06-28T12:00:00+08:00 33\n",
    "# 2019-06-28T12:00:00+08:00 33\n",
    "# 2019-06-28T12:00:00+08:00 34\n",
    "# 2019-06-28T12:00:00+08:00 32\n",
    "# 2019-06-28T12:00:00+08:00 33\n",
    "# 2019-06-28T12:00:00+08:00 33\n",
    "# 2019-06-28T12:00:00+08:00 33\n",
    "# 2019-06-28T12:00:00+08:00 33\n",
    "# 2019-06-28T12:00:00+08:00 32\n",
    "# 2019-06-28T12:00:00+08:00 33\n",
    "# 2019-06-28T12:00:00+08:00 34\n",
    "# 2019-06-28T12:00:00+08:00 33\n",
    "# 2019-06-28T12:00:00+08:00 34\n",
    "# 2019-06-28T12:00:00+08:00 34\n",
    "# 2019-06-28T12:00:00+08:00 34\n",
    "# 2019-06-28T12:00:00+08:00 33\n",
    "# 2019-06-28T12:00:00+08:00 34\n",
    "# 2019-06-28T12:00:00+08:00 34\n",
    "# 2019-06-28T12:00:00+08:00 35\n",
    "# 2019-06-28T12:00:00+08:00 34\n",
    "# 2019-06-28T12:00:00+08:00 34\n",
    "# 2019-06-28T12:00:00+08:00 34\n",
    "# 2019-06-28T12:00:00+08:00 33\n",
    "# 2019-06-28T12:00:00+08:00 33\n",
    "# 2019-06-28T12:00:00+08:00 33\n",
    "# 2019-06-28T12:00:00+08:00 32\n",
    "# 2019-06-28T12:00:00+08:00 32\n",
    "# 2019-06-28T12:00:00+08:00 32\n",
    "# 2019-06-28T12:00:00+08:00 34\n",
    "# 2019-06-28T12:00:00+08:00 34\n",
    "# 2019-06-28T12:00:00+08:00 34\n",
    "# 2019-06-28T12:00:00+08:00 33\n",
    "# 2019-06-28T12:00:00+08:00 36\n",
    "# 2019-06-28T12:00:00+08:00 34\n",
    "# 2019-06-28T12:00:00+08:00 34\n",
    "# 2019-06-28T12:00:00+08:00 31\n",
    "# 2019-06-28T12:00:00+08:00 29"
   ]
  },
  {
   "cell_type": "code",
   "execution_count": null,
   "metadata": {},
   "outputs": [],
   "source": [
    "# 3. 請取出第一個地區所記錄的每一個時間點跟溫度\n",
    "\n",
    "# len(dic['cwbopendata']['dataset']['locations']['location'][0]['weatherElement'][0]['time']) 時間分段個數，從零開始的列表\n",
    "for t in range(len(dic['cwbopendata']['dataset']['locations']['location'][0]['weatherElement'][0]['time'])):\n",
    "    print(dic['cwbopendata']['dataset']['locations']['location'][0]['weatherElement'][0]['time'][t]['dataTime'], \n",
    "          dic['cwbopendata']['dataset']['locations']['location'][0]['weatherElement'][0]['time'][t]['elementValue']['value'])\n",
    "    \n",
    "# 2019-06-28T12:00:00+08:00 33\n",
    "# 2019-06-28T15:00:00+08:00 33\n",
    "# 2019-06-28T18:00:00+08:00 32\n",
    "# 2019-06-28T21:00:00+08:00 30\n",
    "# 2019-06-29T00:00:00+08:00 30\n",
    "# 2019-06-29T03:00:00+08:00 29\n",
    "# 2019-06-29T06:00:00+08:00 28\n",
    "# 2019-06-29T09:00:00+08:00 31\n",
    "# 2019-06-29T12:00:00+08:00 32\n",
    "# 2019-06-29T15:00:00+08:00 32\n",
    "# 2019-06-29T18:00:00+08:00 31\n",
    "# 2019-06-29T21:00:00+08:00 30\n",
    "# 2019-06-30T00:00:00+08:00 29\n",
    "# 2019-06-30T03:00:00+08:00 28\n",
    "# 2019-06-30T06:00:00+08:00 28\n",
    "# 2019-06-30T09:00:00+08:00 31\n",
    "# 2019-06-30T12:00:00+08:00 32\n",
    "# 2019-06-30T15:00:00+08:00 32\n",
    "# 2019-06-30T18:00:00+08:00 31\n",
    "# 2019-06-30T21:00:00+08:00 30\n",
    "# 2019-07-01T00:00:00+08:00 29\n",
    "# 2019-07-01T03:00:00+08:00 29\n",
    "# 2019-07-01T06:00:00+08:00 28\n",
    "# 2019-07-01T09:00:00+08:00 31"
   ]
  },
  {
   "cell_type": "code",
   "execution_count": null,
   "metadata": {},
   "outputs": [],
   "source": []
  }
 ],
 "metadata": {
  "kernelspec": {
   "display_name": "Python 3",
   "language": "python",
   "name": "python3"
  },
  "language_info": {
   "codemirror_mode": {
    "name": "ipython",
    "version": 3
   },
   "file_extension": ".py",
   "mimetype": "text/x-python",
   "name": "python",
   "nbconvert_exporter": "python",
   "pygments_lexer": "ipython3",
   "version": "3.7.4"
  }
 },
 "nbformat": 4,
 "nbformat_minor": 2
}
