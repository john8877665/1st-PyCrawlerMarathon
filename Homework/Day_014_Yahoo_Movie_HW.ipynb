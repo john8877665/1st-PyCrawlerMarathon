{
 "cells": [
  {
   "cell_type": "markdown",
   "metadata": {},
   "source": [
    "# YAHOO電影爬蟲練習\n",
    "## 練習爬取電影放映資訊。必須逐步獲取電影的代號、放映地區、放映日期後，再送出查詢給伺服器。"
   ]
  },
  {
   "cell_type": "code",
   "execution_count": 2,
   "metadata": {},
   "outputs": [],
   "source": [
    "import requests\n",
    "import re\n",
    "from bs4 import BeautifulSoup\n",
    "import json"
   ]
  },
  {
   "cell_type": "markdown",
   "metadata": {},
   "source": [
    "### 先搜尋全部的電影代號(ID)資訊"
   ]
  },
  {
   "cell_type": "code",
   "execution_count": 1,
   "metadata": {},
   "outputs": [
    {
     "name": "stdout",
     "output_type": "stream",
     "text": [
      "Movie: 白頭山：半島浩劫, ID: 10354\n",
      "Movie: CATS貓, ID: 10166\n",
      "Movie: 海上花, ID: 10376\n",
      "Movie: 奪魂露營車, ID: 10366\n",
      "Movie: 世紀球王 馬拉度納, ID: 10361\n",
      "Movie: 怨靈古堡, ID: 10356\n",
      "Movie: 添好孕, ID: 10332\n",
      "Movie: 外出偷馬, ID: 10310\n",
      "Movie: 茱蒂, ID: 10112\n",
      "Movie: 燃燒女子的畫像, ID: 10069\n",
      "Movie: 葉問4：完結篇, ID: 9890\n",
      "Movie: STAR WARS : 天行者的崛起, ID: 10225\n",
      "Movie: 復仇母親, ID: 10392\n",
      "Movie: 風暴過後, ID: 10387\n",
      "Movie: 南方車站的聚會, ID: 10380\n",
      "Movie: 祭旗, ID: 10373\n",
      "Movie: 唯你是愛, ID: 10370\n",
      "Movie: 屍控療法, ID: 10367\n",
      "Movie: 黑熊來了, ID: 10357\n",
      "Movie: 唐人街探案2, ID: 10353\n",
      "Movie: 黑計畫, ID: 10351\n",
      "Movie: 假面騎士劇場版ZI-O Over Quartzer, ID: 10331\n",
      "Movie: 巴黎小情聖, ID: 10329\n",
      "Movie: 8級警戒, ID: 10323\n",
      "Movie: 為你存在的每一天, ID: 10297\n",
      "Movie: 黑色聖誕節, ID: 10291\n",
      "Movie: 熱氣球飛行家, ID: 10257\n",
      "Movie: 大說謊家, ID: 10122\n",
      "Movie: 特約經紀公司, ID: 10364\n",
      "Movie: 我的靈魂是愛做的, ID: 10336\n",
      "Movie: 絕世情歌, ID: 10328\n",
      "Movie: 人間失格：太宰治與他的3個女人, ID: 10287\n",
      "Movie: 呆萌特務, ID: 10264\n",
      "Movie: 去年聖誕節, ID: 10256\n",
      "Movie: 野蠻遊戲：全面晉級, ID: 10134\n",
      "Movie: 夕霧花園, ID: 10327\n",
      "Movie: 布魯克林孤兒, ID: 10224\n",
      "Movie: 暴走曼哈頓, ID: 10044\n",
      "Movie: 鋒迴路轉, ID: 10258\n",
      "Movie: 賽道狂人, ID: 10097\n",
      "Movie: 82年生的金智英, ID: 10298\n",
      "Movie: 冰雪奇緣2, ID: 9597\n",
      "Movie: 萬萬沒想到, ID: 10281\n",
      "Movie: 為美好的世界獻上祝福！紅傳說, ID: 10226\n",
      "Movie: 山田孝之的痛苦與榮耀, ID: 10301\n",
      "Movie: 決戰中途島, ID: 10130\n",
      "Movie: 魔鬼終結者：黑暗宿命, ID: 10067\n",
      "Movie: 陽光普照, ID: 10240\n",
      "Movie: 狙擊獵殺：救援行動, ID: 10284\n",
      "Movie: 金翅雀, ID: 10072\n",
      "Movie: 盲人律師, ID: 10267\n",
      "Movie: 海獸之子, ID: 10263\n",
      "Movie: 江湖無難事, ID: 10241\n",
      "Movie: 藍波：最後一滴血, ID: 10205\n",
      "Movie: 屍樂園：髒比雙拼, ID: 10176\n",
      "Movie: 弒婚遊戲, ID: 10171\n",
      "Movie: 108悍將, ID: 10238\n",
      "Movie: 校外打怪教學, ID: 10200\n",
      "Movie: 唐頓莊園, ID: 10064\n",
      "Movie: 衝擊真相, ID: 10215\n",
      "Movie: 舞孃騙很大, ID: 10199\n",
      "Movie: 好小男孩, ID: 9894\n",
      "Movie: 大叔之愛電影版, ID: 10136\n",
      "Movie: 牠 第二章, ID: 10042\n",
      "Movie: 極限逃生, ID: 10174\n",
      "Movie: 下半場, ID: 9807\n",
      "Movie: 全面攻佔3：天使救援, ID: 10082\n",
      "Movie: 朵拉與失落的黃金城, ID: 9920\n",
      "Movie: 獅子王, ID: 9116\n",
      "Movie: 玩具總動員4, ID: 9924\n",
      "Movie: 毀滅者, ID: 9405\n",
      "Movie: 庫爾斯克號：深海救援, ID: 9134\n",
      "Movie: 厄夜追緝令, ID: 9589\n",
      "Movie: 苦兒流浪記, ID: 9538\n",
      "Movie: 活個精彩, ID: 9394\n",
      "Movie: 限時好友, ID: 9578\n",
      "Movie: 祝你忌日快樂, ID: 9568\n",
      "Movie: 艾莉塔：戰鬥天使, ID: 8553\n",
      "Movie: 馴龍高手3, ID: 8350\n",
      "Movie: 幸福綠皮書, ID: 9150\n",
      "Movie: 一首搖滾上月球, ID: 4887\n",
      "Movie: 錢不夠用2, ID: 3026\n"
     ]
    }
   ],
   "source": [
    "# 查看目前上映那些電影，並擷取出其ID資訊\n",
    "url = 'https://movies.yahoo.com.tw/'\n",
    "resp = requests.get(url)\n",
    "soup = BeautifulSoup(resp.text, 'html5lib')\n",
    "select = soup.find('select', attrs = {'name':'movie_id'})\n",
    "id_info = select.find_all('option', attrs = {'data-name': re.compile('.*')})\n",
    "for info in id_info:\n",
    "    print('Movie: %s, ID: %s' % (info.text, info['value']))"
   ]
  },
  {
   "cell_type": "markdown",
   "metadata": {},
   "source": [
    "### 指定你有興趣的電影其ID，然後查詢其放映地區資訊。"
   ]
  },
  {
   "cell_type": "code",
   "execution_count": 3,
   "metadata": {},
   "outputs": [],
   "source": [
    "# 參考前一個步驟中擷取到的ID資訊，並指定ID\n",
    "movie_id = 9597"
   ]
  },
  {
   "cell_type": "code",
   "execution_count": 4,
   "metadata": {},
   "outputs": [
    {
     "name": "stdout",
     "output_type": "stream",
     "text": [
      "放映地區：台北市, 代號(area_id)：28\n",
      "放映地區：新北市, 代號(area_id)：8\n",
      "放映地區：桃園, 代號(area_id)：16\n",
      "放映地區：新竹, 代號(area_id)：20\n",
      "放映地區：苗栗, 代號(area_id)：15\n",
      "放映地區：台中, 代號(area_id)：2\n",
      "放映地區：彰化, 代號(area_id)：22\n",
      "放映地區：南投, 代號(area_id)：13\n",
      "放映地區：雲林, 代號(area_id)：19\n",
      "放映地區：嘉義, 代號(area_id)：21\n",
      "放映地區：台南, 代號(area_id)：10\n",
      "放映地區：高雄, 代號(area_id)：17\n",
      "放映地區：基隆, 代號(area_id)：18\n",
      "放映地區：宜蘭, 代號(area_id)：11\n",
      "放映地區：花蓮, 代號(area_id)：12\n",
      "放映地區：台東, 代號(area_id)：9\n",
      "放映地區：澎湖, 代號(area_id)：23\n"
     ]
    }
   ],
   "source": [
    "url2 = 'https://movies.yahoo.com.tw/api/v1/areas_by_movie_theater'\n",
    "pl = {'movie_id': str(movie_id)}\n",
    "hds =  {\n",
    "    'authority': 'movies.yahoo.com.tw',\n",
    "    'method': 'GET',\n",
    "    'path': '/api/v1/areas_by_movie_theater?movie_id=' + str(movie_id),\n",
    "    'scheme': 'https',\n",
    "    'accept': 'application/json, text/javascript, */*; q=0.01',\n",
    "    'accept-encoding': 'gzip, deflate, br',\n",
    "    'accept-language': 'zh-TW,zh;q=0.9,en-US;q=0.8,en;q=0.7,zh-CN;q=0.6',\n",
    "    'cookie': 'rxx=9s3x2fws06.1g16irnc&v=1; _ga=GA1.3.2056742944.1551651301; GUC=AQEBAQFczFpdm0IfmwSB&s=AQAAACoo4N5D&g=XMsVBw; BX=4hkdk1decm57t&b=3&s=mr; _ga=GA1.4.2056742944.1551651301; nexagesuid=82843256dd234e8e91aa73f2062f8218; browsed_movie=eyJpdiI6IlJXWWtiSWJaZlNGK2MxQnhscnVUYWc9PSIsInZhbHVlIjoiMXRhMmVHRXRIeUNjc1RBWDJzdGYwbnlIQURmWGsrcjJSMzhkbkcraDNJVUNIZEZsbzU3amlFcVZ1NzlmazJrTGpoMjVrbHk1YmpoRENXaHZTOUw1TmI2ZTZVWHdOejZQZm16RmVuMWlHTTJLaTZLVFZZVkFOMDlTd1wvSGltcytJIiwibWFjIjoiZWQ2ZjA4MmVjZmZlYjlmNjJmYmY2NGMyMDI0Njc0NWViYjVkOWE2NDg0N2RhODMxZjBjZDhiMmJhZTc2MDZhYiJ9; avi=eyJpdiI6Im1NeWFJRlVRWDR1endEcGRGUGJUbVE9PSIsInZhbHVlIjoickRpU3JuUytmcGl6cjF5OW0rNU9iZz09IiwibWFjIjoiY2VmY2NkNzZmM2NhNjY5YzlkOTcyNjE5OGEyMzU0NWYxOTdmMDRkMDY3OWNmMmZjOTMxYjc5MjI5N2Q5NGE5MiJ9; cmp=t=1559391030&j=0; _gid=GA1.4.779543841.1559391031; XSRF-TOKEN=eyJpdiI6IkhpS2hGcDRQaHlmWUJmaHdSS2Q2bHc9PSIsInZhbHVlIjoiOUVoNFk4OHI1UUZmUWRtYXhza0MyWjJSTlhlZ3RnT0VGeVJPN2JuczVRMGRFdWt2OUlsamVKeHRobFwvcHBGM0dhU3VyMXNGTHlsb2dVM2l0U1hpUGxBPT0iLCJtYWMiOiJkZWU4YzJhNjAxMTY3MzE4Y2ExNWIxYmE1ZjE1YWZlZTlhOTcyYjc4M2RlZGY4ZWNjZDYyMTA2NGYwZGViMzc2In0%3D; m_s=eyJpdiI6InpsZHZ2Tk1BZ0dxaHhETml1RjBnUXc9PSIsInZhbHVlIjoiSkNGeHUranRoXC85bDFiaDhySTJqNkJRcWdjWUxjeVRJSHVYZ1wvd2d4bWJZUTUrSHVDM0lUcW5KNHdETFZ4T1lieU81OUhzc1VoUXhZcWk0UDZSQXVFdz09IiwibWFjIjoiYmJkMDJkMDhlODIzMzcyMWY4M2NmYWNjNGVlOWRjMDIwZmVmNzAyMjE3Yzg3ZGY3ODBkZWEzZTI4MTI5ZWNmOSJ9; _gat=1; nexagesd=10',\n",
    "    'dnt': '1',\n",
    "    'mv-authorization': '21835b082e15b91a69b3851eec7b31b82ce82afb',\n",
    "    'referer': 'https://movies.yahoo.com.tw/',\n",
    "    'user-agent': 'Mozilla/5.0 (Windows NT 10.0; Win64; x64) AppleWebKit/537.36 (KHTML, like Gecko) Chrome/74.0.3729.169 Safari/537.36',\n",
    "    'x-requested-with': 'XMLHttpRequest',\n",
    "}\n",
    "resp = requests.get(url2, params = pl, headers = hds)\n",
    "import json\n",
    "js = json.loads(resp.text)\n",
    "for j in js:\n",
    "    print('放映地區：{0}, 代號(area_id)：{1}'.format(j['title'], j['area_id']))"
   ]
  },
  {
   "cell_type": "markdown",
   "metadata": {},
   "source": [
    "### 指定你想要觀看的放映地區，查詢有上映電影的場次日期"
   ]
  },
  {
   "cell_type": "code",
   "execution_count": 6,
   "metadata": {},
   "outputs": [],
   "source": [
    "# 指定放映地區\n",
    "area_id = 20 #新竹的播映時間"
   ]
  },
  {
   "cell_type": "code",
   "execution_count": 8,
   "metadata": {},
   "outputs": [
    {
     "name": "stdout",
     "output_type": "stream",
     "text": [
      "十二月 24 今天\n",
      "十二月 25 明天\n",
      "十二月 26 禮拜四\n",
      "十二月 27 禮拜五\n",
      "十二月 28 禮拜六\n"
     ]
    }
   ],
   "source": [
    "url3 = 'https://movies.yahoo.com.tw/movietime_result.html'\n",
    "pl3 = {'movie_id': str(movie_id), 'area_id': str(area_id)}\n",
    "resp3 = requests.get(url3, params=pl3)\n",
    "soup3 = BeautifulSoup(resp3.text, 'html5lib')\n",
    "times = soup3.find_all('label', class_=\"picker_label\")\n",
    "for t in times:\n",
    "    print(t.find(class_='month').text+' '+t.find(class_='day').text+' '+t.find(class_='week').text)"
   ]
  },
  {
   "cell_type": "markdown",
   "metadata": {},
   "source": [
    "### 最後指定觀看的日期，查詢並列印出放映的電影院、放映類型(數位、3D、IMAX 3D...)、放映時間等資訊。"
   ]
  },
  {
   "cell_type": "code",
   "execution_count": 9,
   "metadata": {},
   "outputs": [],
   "source": [
    "# 選定要觀看的日期\n",
    "date = \"2019-12-25\""
   ]
  },
  {
   "cell_type": "code",
   "execution_count": 10,
   "metadata": {},
   "outputs": [],
   "source": [
    "date = '2019-12-25'\n",
    "url4 = \"https://movies.yahoo.com.tw/ajax/pc/get_schedule_by_movie\"\n",
    "pl4 = {'movie_id':str(movie_id),\n",
    "           'date':date,\n",
    "           'area_id':str(area_id),\n",
    "           'theater_id':'',\n",
    "           'datetime':'',\n",
    "           'movie_type_id':''}\n",
    "resp4 = requests.get(url4, pl4)\n",
    "js4 = json.loads(resp4.text)\n",
    "soup4 = BeautifulSoup(js4['view'], 'html5lib')"
   ]
  },
  {
   "cell_type": "code",
   "execution_count": 14,
   "metadata": {},
   "outputs": [
    {
     "name": "stdout",
     "output_type": "stream",
     "text": [
      "-----------------------------------------------------------------\n",
      "新竹大遠百威秀影城\n",
      "電影名稱： 冰雪奇緣2\n",
      "放映類型： 數位\n",
      "2019-12-25 10:35:00\n",
      "放映類型： 數位\n",
      "2019-12-25 14:25:00\n",
      "放映類型： 數位\n",
      "2019-12-25 18:25:00\n",
      "-----------------------------------------------------------------\n",
      "新竹巨城威秀影城\n",
      "電影名稱： 冰雪奇緣2\n",
      "放映類型： 數位\n",
      "2019-12-25 09:25:00\n",
      "放映類型： 數位\n",
      "2019-12-25 13:35:00\n",
      "放映類型： 數位\n",
      "2019-12-25 17:35:00\n",
      "-----------------------------------------------------------------\n"
     ]
    }
   ],
   "source": [
    "area = soup4.find_all('ul', class_='area_time')\n",
    "for a in area:\n",
    "    print('-----------------------------------------------------------------')\n",
    "    print(a['data-theater_name'])\n",
    "    print('電影名稱： {}'.format(a.find('input', class_='gabtn')['data-movie_title']))\n",
    "    times = a.find_all('input', class_='gabtn')\n",
    "    for b in times:\n",
    "        print('放映類型： {}'.format(b['data-movie_type']))\n",
    "        print(b['value'])\n",
    "print('-----------------------------------------------------------------')"
   ]
  },
  {
   "cell_type": "code",
   "execution_count": null,
   "metadata": {},
   "outputs": [],
   "source": []
  }
 ],
 "metadata": {
  "kernelspec": {
   "display_name": "Python 3",
   "language": "python",
   "name": "python3"
  },
  "language_info": {
   "codemirror_mode": {
    "name": "ipython",
    "version": 3
   },
   "file_extension": ".py",
   "mimetype": "text/x-python",
   "name": "python",
   "nbconvert_exporter": "python",
   "pygments_lexer": "ipython3",
   "version": "3.7.4"
  }
 },
 "nbformat": 4,
 "nbformat_minor": 2
}
